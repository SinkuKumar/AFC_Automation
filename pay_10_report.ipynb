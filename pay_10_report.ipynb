{
 "cells": [
  {
   "cell_type": "code",
   "execution_count": null,
   "metadata": {},
   "outputs": [],
   "source": [
    "import os\n",
    "import logging\n",
    "import traceback\n",
    "from dotenv import load_dotenv\n",
    "import utils.file_folder as file_operation\n",
    "from utils.general import get_yesterdays_date\n",
    "from utils.pyodbc_sql import PyODBCSQL\n",
    "from utils.experity_base import ExperityBase, close_other_windows\n",
    "from utils.selenium_driver import SeleniumDriver\n",
    "from utils.extract_transform import pay_10_report_data_transformation\n",
    "from datetime import datetime"
   ]
  },
  {
   "cell_type": "code",
   "execution_count": null,
   "metadata": {},
   "outputs": [],
   "source": [
    "client_ids = [3671]\n",
    "report_from_date = '01/01/2022'  # MM/DD/YYYY format\n",
    "report_to_date =  get_yesterdays_date()   # MM/DD/YYYY format"
   ]
  },
  {
   "cell_type": "code",
   "execution_count": null,
   "metadata": {},
   "outputs": [],
   "source": [
    "REPORT_NAME = 'PAY_10'\n",
    "BROWSER = 'chrome'\n",
    "DOWNLOAD_DIR = os.getcwd()\n",
    "WINDOW_WIDTH, WINDOW_HEIGHT = None, None\n",
    "EXPERITY_URL = 'https://pvpm.practicevelocity.com'\n",
    "TABLE_NAME = 'PAY_10_Staging'\n",
    "\n",
    "date_folder = rf'{DOWNLOAD_DIR}\\{datetime.now().strftime(\"%m-%d-%Y\")}'\n",
    "file_operation.create_directories([date_folder])"
   ]
  },
  {
   "cell_type": "code",
   "execution_count": null,
   "metadata": {},
   "outputs": [],
   "source": [
    "logging.info(f\"{'-'*30}\")\n",
    "logging.info('  New Automation run started')\n",
    "print('New Automation Run Started...')\n",
    "logging.info(f\"{'-'*30}\")\n",
    "selenium = SeleniumDriver(browser=BROWSER, download_directory=date_folder, window_width=WINDOW_WIDTH, window_height= WINDOW_HEIGHT)\n",
    "driver = selenium.setup_driver()\n",
    "\n",
    "load_dotenv()\n",
    "DB = PyODBCSQL()"
   ]
  },
  {
   "cell_type": "code",
   "execution_count": null,
   "metadata": {},
   "outputs": [],
   "source": [
    "def web_workflow():\n",
    "    try:\n",
    "        print(f'Web Workflow started for client : {client_id}')\n",
    "        experity = ExperityBase(driver)\n",
    "    \n",
    "        experity.open_portal(EXPERITY_URL)\n",
    "        experity.login(username, password)\n",
    "        PORTAL_URL = experity.experity_version()\n",
    "        experity.navigate_to(EXPERITY_URL, PORTAL_URL, \"Reports\")\n",
    "        experity.search_and_select_report(REPORT_NAME)\n",
    "        experity.select_report_date_range(report_from_date, report_to_date)\n",
    "        experity.run_report()\n",
    "        experity.download_report('CSV')\n",
    "        file_operation.wait_for_download(REPORT_NAME, date_folder)\n",
    "        close_other_windows(driver)\n",
    "        experity.logout()\n",
    "\n",
    "        file_operation.rename_file_or_folder(os.path.join(date_folder, download_csv_file_name), os.path.join(date_folder, download_csv_file_rename))\n",
    "        print(f'Web Workflow completed successfully for client : {client_id}')\n",
    "        return True\n",
    "    except Exception as e:\n",
    "        logging.error(\"An unexpected error occured : \\n\" + traceback.format_exc())\n",
    "        print(e)\n",
    "    finally:\n",
    "        driver.quit()\n",
    "        logging.info(\"Browser closed successfully.\")\n",
    "\n",
    "def data_workflow():\n",
    "    logging.info(\"Database workflow started...\")\n",
    "    try:\n",
    "        print(f'Data transformation and Records insertion process started for client : {client_id}')\n",
    "        input_csv_file = os.path.join(date_folder, download_csv_file_rename)\n",
    "        output_csv_file = os.path.join(date_folder, transformed_csv_file_name)\n",
    "        pay_10_report_data_transformation(input_csv_file, output_csv_file, client_id)\n",
    "        # DB.delete_table_data(TABLE_NAME, client_id)\n",
    "        # DB.csv_bulk_insert(output_csv_file, TABLE_NAME)\n",
    "        print(f'Data transformation and Records insertion completed for client : {client_id}')\n",
    "        logging.info('Database workflow completed!')\n",
    "    except Exception as e:\n",
    "        print(e)\n",
    "        logging.error(f'An unexpected error occurred during the ETL process: {e}', exc_info=True)\n",
    "\n",
    "user_credentials = DB.get_users_credentials(client_ids)\n",
    "\n",
    "for client_id, username, password in user_credentials:\n",
    "    \n",
    "    time_stamp = datetime.now().strftime(\"%m-%d-%Y_%H-%M-%S\")\n",
    "    download_csv_file_name ='PAY_10_PayerPatientPaidAdjustedByPayerClass.csv'\n",
    "    download_csv_file_rename = f'{REPORT_NAME}_{client_id}_{report_from_date.replace(\"/\", \"-\")}_{report_to_date.replace(\"/\", \"-\")}_{time_stamp}.csv'\n",
    "    transformed_csv_file_name = f'{REPORT_NAME}_{client_id}_{report_from_date.replace(\"/\", \"-\")}_{report_to_date.replace(\"/\", \"-\")}_{time_stamp}_transformed.csv'\n",
    "    status = False\n",
    "\n",
    "    status = web_workflow()\n",
    "    if status:\n",
    "        data_workflow()\n",
    "logging.info('Automation run Finished. Please review the results.')\n",
    "print('Automation run Finished. Please review the results.')"
   ]
  },
  {
   "cell_type": "code",
   "execution_count": null,
   "metadata": {},
   "outputs": [],
   "source": []
  }
 ],
 "metadata": {
  "kernelspec": {
   "display_name": "venv",
   "language": "python",
   "name": "python3"
  },
  "language_info": {
   "codemirror_mode": {
    "name": "ipython",
    "version": 3
   },
   "file_extension": ".py",
   "mimetype": "text/x-python",
   "name": "python",
   "nbconvert_exporter": "python",
   "pygments_lexer": "ipython3",
   "version": "3.10.11"
  }
 },
 "nbformat": 4,
 "nbformat_minor": 2
}
