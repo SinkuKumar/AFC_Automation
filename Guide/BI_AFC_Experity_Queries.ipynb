{
    "metadata": {
        "kernelspec": {
            "name": "SQL",
            "display_name": "SQL",
            "language": "sql"
        },
        "language_info": {
            "name": "sql",
            "version": ""
        }
    },
    "nbformat_minor": 2,
    "nbformat": 4,
    "cells": [
        {
            "cell_type": "markdown",
            "source": [
                "\\# BI\\_AFC\\_Experity - Database Queries"
            ],
            "metadata": {
                "azdata_cell_guid": "8ca26779-c4b1-40d6-a04a-b1c266f13d82"
            },
            "attachments": {}
        },
        {
            "cell_type": "code",
            "source": [
                "USE BI_AFC_Experity"
            ],
            "metadata": {
                "azdata_cell_guid": "6e2d7a09-51ec-44c3-a0e6-e64217d0da1f",
                "language": "sql"
            },
            "outputs": [
                {
                    "output_type": "error",
                    "ename": "",
                    "evalue": "Msg 916, Level 14, State 2, Line 1\nThe server principal \"Sinku\" is not able to access the database \"BI_AFC_Experity\" under the current security context.",
                    "traceback": []
                },
                {
                    "output_type": "display_data",
                    "data": {
                        "text/html": "Total execution time: 00:00:00.231"
                    },
                    "metadata": {}
                }
            ],
            "execution_count": 1
        },
        {
            "cell_type": "markdown",
            "source": [
                "\\## Report Date Schedule\n",
                "\n",
                "  \n",
                "\n",
                "\\- Use this table to schedule the date for the reports\n",
                "\n",
                "\\- If you want the report to be downloaded 2 days back just set the value 2 in days and leave months, years as NULL\n",
                "\n",
                "\\- If you want the report to be downloaded 2 months back just set the value 2 in months and leave days and years as NULL\n",
                "\n",
                "\\- If you want the report to be downloaded 1 year back just set the value 1 in years and leave days and months as NULL\n",
                "\n",
                "\\- If months column is updated the default date will be taken from the 1st of the month.\n",
                "\n",
                "\\- If years column is updated the default date will be taken from the 1st January of the year.\n",
                "\n",
                "\\- If you update more than one column of days, months or years then years will be given preference followed by months then days.\n",
                "\n",
                "\\- Be sure about setting the days of the column.\n",
                "\n",
                "  \n",
                "\n",
                "\\- If any script requires more than specified number of years, create a copy of the unreadable script and modify the dates as per requirement.\n",
                "\n",
                "\\- \\*\\*Note:\\*\\* If the script is created duplicate it'll delete the copy of the file at midnight."
            ],
            "metadata": {
                "language": "sql",
                "azdata_cell_guid": "99be6bce-9987-40ec-a4e5-3bdbf2f09aa5"
            },
            "attachments": {}
        },
        {
            "cell_type": "code",
            "source": [
                "CREATE TABLE ReportSchedule (\n",
                "    client_id INT,\n",
                "    report_name VARCHAR(10),\n",
                "    days INT,\n",
                "    months INT,\n",
                "    years INT,\n",
                "    from_date DATETIME,\n",
                "    date_updated DATETIME DEFAULT GETDATE()\n",
                ")"
            ],
            "metadata": {
                "language": "sql",
                "azdata_cell_guid": "77b76c2c-0383-4ce8-8ac3-a792725464d2"
            },
            "outputs": [],
            "execution_count": null
        },
        {
            "cell_type": "code",
            "source": [
                "INSERT INTO ReportSchedule \n",
                "(client_id, report_name, years)\n",
                "VALUES\n",
                "(16, 'CNT_27', 1)"
            ],
            "metadata": {
                "language": "sql",
                "azdata_cell_guid": "fb92b5c3-523d-48e1-8dc7-e49b31142e42"
            },
            "outputs": [
                {
                    "output_type": "error",
                    "ename": "",
                    "evalue": "Execution failed due to an unexpected error: \n\tConnection is required in order to interact with queries",
                    "traceback": []
                },
                {
                    "output_type": "display_data",
                    "data": {
                        "text/html": "Total execution time: 00:00:00"
                    },
                    "metadata": {}
                }
            ],
            "execution_count": 11
        },
        {
            "cell_type": "code",
            "source": [
                "USE BI_AFC\n",
                "\n",
                "SELECT client_id, client_name, username, password FROM AFC_Password_Tbl WHERE active = 1"
            ],
            "metadata": {
                "language": "sql",
                "azdata_cell_guid": "b8cc3d12-cdad-4da0-9287-a3966fc5c81d"
            },
            "outputs": [
                {
                    "output_type": "display_data",
                    "data": {
                        "text/html": "(32 rows affected)"
                    },
                    "metadata": {}
                },
                {
                    "output_type": "display_data",
                    "data": {
                        "text/html": "Total execution time: 00:00:00.455"
                    },
                    "metadata": {}
                },
                {
                    "output_type": "execute_result",
                    "execution_count": 2,
                    "data": {
                        "application/vnd.dataresource+json": {
                            "schema": {
                                "fields": [
                                    {
                                        "name": "client_id"
                                    },
                                    {
                                        "name": "client_name"
                                    },
                                    {
                                        "name": "Username"
                                    },
                                    {
                                        "name": "Password"
                                    },
                                    {
                                        "name": "active"
                                    }
                                ]
                            },
                            "data": [
                                {
                                    "client_id": "16",
                                    "client_name": "AFC-DMS",
                                    "Username": "sjalan@zny01",
                                    "Password": "Graphx@345",
                                    "active": "1"
                                },
                                {
                                    "client_id": "3622",
                                    "client_name": "AFC-Alexis",
                                    "Username": "sjalan@zil01",
                                    "Password": "Graphx@678",
                                    "active": "1"
                                },
                                {
                                    "client_id": "3630",
                                    "client_name": "AFC-Boni",
                                    "Username": "Sjalan@ZCA07",
                                    "Password": "Graphx@098",
                                    "active": "1"
                                },
                                {
                                    "client_id": "3735",
                                    "client_name": "AFC-Susheel",
                                    "Username": "sjalan@znh02",
                                    "Password": "AFCHudson@0132",
                                    "active": "1"
                                },
                                {
                                    "client_id": "3625",
                                    "client_name": "AFC-OHIO-MED",
                                    "Username": "Rafiq@ZOH02",
                                    "Password": "Graphx@888",
                                    "active": "1"
                                },
                                {
                                    "client_id": "3649",
                                    "client_name": "AFC-SUGAR-LAND",
                                    "Username": "GRAPHXSYS@ZTX10",
                                    "Password": "Graphx@555",
                                    "active": "1"
                                },
                                {
                                    "client_id": "3650",
                                    "client_name": "AFC-MANSOOR",
                                    "Username": "sjalan@ZKS01",
                                    "Password": "Graphx@063",
                                    "active": "1"
                                },
                                {
                                    "client_id": "3736",
                                    "client_name": "AFC-Robert",
                                    "Username": "SJALAN@ZCA11",
                                    "Password": "Graphx@8088",
                                    "active": "1"
                                },
                                {
                                    "client_id": "822",
                                    "client_name": "AFC-MOUSHMI",
                                    "Username": "sjalan@zma01",
                                    "Password": "Graphx@777",
                                    "active": "1"
                                },
                                {
                                    "client_id": "655",
                                    "client_name": "AFC-Petter",
                                    "Username": "sjalan@zma02",
                                    "Password": "Graphx@555",
                                    "active": "1"
                                },
                                {
                                    "client_id": "3657",
                                    "client_name": "AFC-BRIAN",
                                    "Username": "sjalan@zmi04",
                                    "Password": "Graphx@888",
                                    "active": "1"
                                },
                                {
                                    "client_id": "640",
                                    "client_name": "AFC-Zaka",
                                    "Username": "sjalan@zma04",
                                    "Password": "Graphx@987",
                                    "active": "1"
                                },
                                {
                                    "client_id": "489",
                                    "client_name": "AFC-QMG",
                                    "Username": "SRjalan@zct02",
                                    "Password": "Graphx@111",
                                    "active": "1"
                                },
                                {
                                    "client_id": "36",
                                    "client_name": "AFC-JSH",
                                    "Username": "sjalan@zny02",
                                    "Password": "Graphx@222",
                                    "active": "1"
                                },
                                {
                                    "client_id": "3671",
                                    "client_name": "AFC-CHRIS",
                                    "Username": "sjalan@zcO09",
                                    "Password": "Graphx@111",
                                    "active": "1"
                                },
                                {
                                    "client_id": "3672",
                                    "client_name": "AFC-Shaun",
                                    "Username": "sjalan@ztx03",
                                    "Password": "Graphx@000",
                                    "active": "1"
                                },
                                {
                                    "client_id": "3624",
                                    "client_name": "AFC-Shivsai",
                                    "Username": "sjalan@znj16",
                                    "Password": "Graphx@231",
                                    "active": "1"
                                },
                                {
                                    "client_id": "3678",
                                    "client_name": "AFC-ANIBAL",
                                    "Username": "sjalan@zfl01",
                                    "Password": "Graphx@656",
                                    "active": "1"
                                },
                                {
                                    "client_id": "3681",
                                    "client_name": "AFC-Michelle",
                                    "Username": "sjalan@zco02",
                                    "Password": "Graphx@098",
                                    "active": "1"
                                },
                                {
                                    "client_id": "3696",
                                    "client_name": "AFC-James",
                                    "Username": "Sjalan@ztn01",
                                    "Password": "Graphx@111",
                                    "active": "1"
                                },
                                {
                                    "client_id": "3698",
                                    "client_name": "AFC-Mandeep",
                                    "Username": "sjalan@zca10",
                                    "Password": "Graphx@222",
                                    "active": "1"
                                },
                                {
                                    "client_id": "3697",
                                    "client_name": "AFC-Timothy",
                                    "Username": "SJALAN@zmo01",
                                    "Password": "Graphx@654",
                                    "active": "1"
                                },
                                {
                                    "client_id": "3705",
                                    "client_name": "AFC-Akindele",
                                    "Username": "GRAPHX@ZMD02",
                                    "Password": "Sjalan@000",
                                    "active": "1"
                                },
                                {
                                    "client_id": "3716",
                                    "client_name": "AFC-Adriano",
                                    "Username": "SJALAN@ZTX05",
                                    "Password": "Graphx@543",
                                    "active": "1"
                                },
                                {
                                    "client_id": "3720",
                                    "client_name": "AFC-Gloria",
                                    "Username": "sjalan@ztx06",
                                    "Password": "Graphx@121",
                                    "active": "1"
                                },
                                {
                                    "client_id": "3718",
                                    "client_name": "AFC-Johnson",
                                    "Username": "sjalan@zmo03",
                                    "Password": "Graphx@456",
                                    "active": "1"
                                },
                                {
                                    "client_id": "3665",
                                    "client_name": "AFC-Dan",
                                    "Username": "sjalan@zny04",
                                    "Password": "Graphx@321",
                                    "active": "1"
                                },
                                {
                                    "client_id": "3721",
                                    "client_name": "AFC-Aaron",
                                    "Username": "SJALAN@ZNC01",
                                    "Password": "Graphx@987",
                                    "active": "0"
                                },
                                {
                                    "client_id": "3724",
                                    "client_name": "AFC-Rajamand",
                                    "Username": "jsrikant@znv01",
                                    "Password": "Graphx@090",
                                    "active": "1"
                                },
                                {
                                    "client_id": "3725",
                                    "client_name": "AFC-Shazzad",
                                    "Username": "graphxsys@zmi01",
                                    "Password": "Graphx@111",
                                    "active": "1"
                                },
                                {
                                    "client_id": "3726",
                                    "client_name": "AFC-Derrick",
                                    "Username": "graphx@zca12",
                                    "Password": "Sjalan@222",
                                    "active": "1"
                                },
                                {
                                    "client_id": "3670",
                                    "client_name": "AFC-Nathan",
                                    "Username": "GRAPHX1@zne01",
                                    "Password": "Graphx@999",
                                    "active": "1"
                                }
                            ]
                        },
                        "text/html": "<table><tr><th>client_id</th><th>client_name</th><th>Username</th><th>Password</th><th>active</th></tr><tr><td>16</td><td>AFC-DMS</td><td>sjalan@zny01</td><td>Graphx@345</td><td>1</td></tr><tr><td>3622</td><td>AFC-Alexis</td><td>sjalan@zil01</td><td>Graphx@678</td><td>1</td></tr><tr><td>3630</td><td>AFC-Boni</td><td>Sjalan@ZCA07</td><td>Graphx@098</td><td>1</td></tr><tr><td>3735</td><td>AFC-Susheel</td><td>sjalan@znh02</td><td>AFCHudson@0132</td><td>1</td></tr><tr><td>3625</td><td>AFC-OHIO-MED</td><td>Rafiq@ZOH02</td><td>Graphx@888</td><td>1</td></tr><tr><td>3649</td><td>AFC-SUGAR-LAND</td><td>GRAPHXSYS@ZTX10</td><td>Graphx@555</td><td>1</td></tr><tr><td>3650</td><td>AFC-MANSOOR</td><td>sjalan@ZKS01</td><td>Graphx@063</td><td>1</td></tr><tr><td>3736</td><td>AFC-Robert</td><td>SJALAN@ZCA11</td><td>Graphx@8088</td><td>1</td></tr><tr><td>822</td><td>AFC-MOUSHMI</td><td>sjalan@zma01</td><td>Graphx@777</td><td>1</td></tr><tr><td>655</td><td>AFC-Petter</td><td>sjalan@zma02</td><td>Graphx@555</td><td>1</td></tr><tr><td>3657</td><td>AFC-BRIAN</td><td>sjalan@zmi04</td><td>Graphx@888</td><td>1</td></tr><tr><td>640</td><td>AFC-Zaka</td><td>sjalan@zma04</td><td>Graphx@987</td><td>1</td></tr><tr><td>489</td><td>AFC-QMG</td><td>SRjalan@zct02</td><td>Graphx@111</td><td>1</td></tr><tr><td>36</td><td>AFC-JSH</td><td>sjalan@zny02</td><td>Graphx@222</td><td>1</td></tr><tr><td>3671</td><td>AFC-CHRIS</td><td>sjalan@zcO09</td><td>Graphx@111</td><td>1</td></tr><tr><td>3672</td><td>AFC-Shaun</td><td>sjalan@ztx03</td><td>Graphx@000</td><td>1</td></tr><tr><td>3624</td><td>AFC-Shivsai</td><td>sjalan@znj16</td><td>Graphx@231</td><td>1</td></tr><tr><td>3678</td><td>AFC-ANIBAL</td><td>sjalan@zfl01</td><td>Graphx@656</td><td>1</td></tr><tr><td>3681</td><td>AFC-Michelle</td><td>sjalan@zco02</td><td>Graphx@098</td><td>1</td></tr><tr><td>3696</td><td>AFC-James</td><td>Sjalan@ztn01</td><td>Graphx@111</td><td>1</td></tr><tr><td>3698</td><td>AFC-Mandeep</td><td>sjalan@zca10</td><td>Graphx@222</td><td>1</td></tr><tr><td>3697</td><td>AFC-Timothy</td><td>SJALAN@zmo01</td><td>Graphx@654</td><td>1</td></tr><tr><td>3705</td><td>AFC-Akindele</td><td>GRAPHX@ZMD02</td><td>Sjalan@000</td><td>1</td></tr><tr><td>3716</td><td>AFC-Adriano</td><td>SJALAN@ZTX05</td><td>Graphx@543</td><td>1</td></tr><tr><td>3720</td><td>AFC-Gloria</td><td>sjalan@ztx06</td><td>Graphx@121</td><td>1</td></tr><tr><td>3718</td><td>AFC-Johnson</td><td>sjalan@zmo03</td><td>Graphx@456</td><td>1</td></tr><tr><td>3665</td><td>AFC-Dan</td><td>sjalan@zny04</td><td>Graphx@321</td><td>1</td></tr><tr><td>3721</td><td>AFC-Aaron</td><td>SJALAN@ZNC01</td><td>Graphx@987</td><td>0</td></tr><tr><td>3724</td><td>AFC-Rajamand</td><td>jsrikant@znv01</td><td>Graphx@090</td><td>1</td></tr><tr><td>3725</td><td>AFC-Shazzad</td><td>graphxsys@zmi01</td><td>Graphx@111</td><td>1</td></tr><tr><td>3726</td><td>AFC-Derrick</td><td>graphx@zca12</td><td>Sjalan@222</td><td>1</td></tr><tr><td>3670</td><td>AFC-Nathan</td><td>GRAPHX1@zne01</td><td>Graphx@999</td><td>1</td></tr></table>"
                    },
                    "metadata": {}
                }
            ],
            "execution_count": 2
        },
        {
            "cell_type": "code",
            "source": [
                "USE BI_AFC\n",
                "\n",
                "SELECT * FROM CNT_27_Temp_MTD_16"
            ],
            "metadata": {
                "language": "sql",
                "azdata_cell_guid": "fb36c090-691d-4c09-ab3b-87f2a371acc1"
            },
            "outputs": [
                {
                    "output_type": "display_data",
                    "data": {
                        "text/html": "(0 rows affected)"
                    },
                    "metadata": {}
                },
                {
                    "output_type": "display_data",
                    "data": {
                        "text/html": "Total execution time: 00:00:00.324"
                    },
                    "metadata": {}
                },
                {
                    "output_type": "execute_result",
                    "execution_count": 5,
                    "data": {
                        "application/vnd.dataresource+json": {
                            "schema": {
                                "fields": [
                                    {
                                        "name": "Client_id"
                                    },
                                    {
                                        "name": "Dateupdated"
                                    },
                                    {
                                        "name": "Clinic"
                                    },
                                    {
                                        "name": "Svc_Date"
                                    },
                                    {
                                        "name": "Time_In"
                                    },
                                    {
                                        "name": "Time_Out"
                                    },
                                    {
                                        "name": "Status_Name"
                                    },
                                    {
                                        "name": "ArrivalStatus"
                                    },
                                    {
                                        "name": "Class"
                                    },
                                    {
                                        "name": "Payer_Type"
                                    },
                                    {
                                        "name": "Payer"
                                    },
                                    {
                                        "name": "Member_ID"
                                    },
                                    {
                                        "name": "Pat_Num"
                                    },
                                    {
                                        "name": "Pat_Name"
                                    },
                                    {
                                        "name": "Visit_Type"
                                    },
                                    {
                                        "name": "Rendering_Phy"
                                    },
                                    {
                                        "name": "SignOffSealedDate"
                                    },
                                    {
                                        "name": "Log_Num"
                                    },
                                    {
                                        "name": "Inv_Num"
                                    },
                                    {
                                        "name": "Withhold_Code"
                                    },
                                    {
                                        "name": "Total_Charge"
                                    },
                                    {
                                        "name": "vstatus"
                                    },
                                    {
                                        "name": "Payer_Mastername"
                                    },
                                    {
                                        "name": "cnt_19_category"
                                    }
                                ]
                            },
                            "data": []
                        },
                        "text/html": "<table><tr><th>Client_id</th><th>Dateupdated</th><th>Clinic</th><th>Svc_Date</th><th>Time_In</th><th>Time_Out</th><th>Status_Name</th><th>ArrivalStatus</th><th>Class</th><th>Payer_Type</th><th>Payer</th><th>Member_ID</th><th>Pat_Num</th><th>Pat_Name</th><th>Visit_Type</th><th>Rendering_Phy</th><th>SignOffSealedDate</th><th>Log_Num</th><th>Inv_Num</th><th>Withhold_Code</th><th>Total_Charge</th><th>vstatus</th><th>Payer_Mastername</th><th>cnt_19_category</th></tr></table>"
                    },
                    "metadata": {}
                }
            ],
            "execution_count": 5
        }
    ]
}