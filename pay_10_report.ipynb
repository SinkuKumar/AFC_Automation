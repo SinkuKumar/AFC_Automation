{
 "cells": [
  {
   "cell_type": "code",
   "execution_count": null,
   "metadata": {},
   "outputs": [],
   "source": [
    "import os\n",
    "import logging\n",
    "import traceback\n",
    "from dotenv import load_dotenv\n",
    "import utils.file_folder as file_operation\n",
    "from utils.general import get_yesterdays_date\n",
    "from utils.pyodbc_sql import PyODBCSQL\n",
    "from utils.experity_base import ExperityBase, close_other_windows\n",
    "from utils.selenium_driver import SeleniumDriver\n",
    "from utils.extract_transform import pay_10_report_data_transformation\n",
    "from datetime import datetime"
   ]
  },
  {
   "cell_type": "code",
   "execution_count": null,
   "metadata": {},
   "outputs": [],
   "source": [
    "client_ids = [3681]\n",
    "report_from_date = '01/01/2022'  # MM/DD/YYYY format\n",
    "report_to_date =  get_yesterdays_date()   # MM/DD/YYYY format"
   ]
  },
  {
   "cell_type": "code",
   "execution_count": null,
   "metadata": {},
   "outputs": [],
   "source": [
    "REPORT_NAME = 'PAY_10'\n",
    "BROWSER = 'chrome'\n",
    "ALL_FILES_DIR = os.path.join(os.getcwd(), 'Downloads', 'Pay_10')\n",
    "DOWNLOAD_DIR = os.path.join(os.getcwd(), 'Downloads', 'Pay_10_TEMP')\n",
    "WINDOW_WIDTH, WINDOW_HEIGHT = None, None\n",
    "EXPERITY_URL = 'https://pvpm.practicevelocity.com'\n",
    "\n",
    "date_folder = rf'{ALL_FILES_DIR}\\{datetime.now().strftime(\"%m-%d-%Y\")}'\n",
    "file_operation.create_directories([date_folder, DOWNLOAD_DIR])"
   ]
  },
  {
   "cell_type": "code",
   "execution_count": null,
   "metadata": {},
   "outputs": [],
   "source": [
    "logging.info(f\"{'-'*30}\")\n",
    "logging.info('  New Automation run started')\n",
    "print('New Automation Run Started...\\n')\n",
    "logging.info(f\"{'-'*30}\")\n",
    "selenium = SeleniumDriver(browser=BROWSER, download_directory=DOWNLOAD_DIR, window_width=WINDOW_WIDTH, window_height= WINDOW_HEIGHT)\n",
    "driver = selenium.setup_driver()\n",
    "\n",
    "load_dotenv()\n",
    "db = PyODBCSQL()"
   ]
  },
  {
   "cell_type": "code",
   "execution_count": null,
   "metadata": {},
   "outputs": [],
   "source": [
    "def web_workflow():\n",
    "    try:\n",
    "        print(f'Web Workflow started for client : {client_id}')\n",
    "        experity = ExperityBase(driver, 300)\n",
    "    \n",
    "        experity.open_portal(EXPERITY_URL)\n",
    "        experity.login(username, password)\n",
    "        PORTAL_URL = experity.experity_version()\n",
    "        experity.navigate_to(EXPERITY_URL, PORTAL_URL, \"Reports\")\n",
    "        experity.search_and_select_report(REPORT_NAME)\n",
    "        experity.select_report_date_range(report_from_date, report_to_date)\n",
    "        experity.run_report()\n",
    "        experity.download_report('CSV')\n",
    "        file_operation.wait_for_download(REPORT_NAME, DOWNLOAD_DIR, 500)\n",
    "        close_other_windows(driver)\n",
    "        experity.logout()\n",
    "\n",
    "        file_operation.rename_file_or_folder(os.path.join(DOWNLOAD_DIR, download_csv_file_name), os.path.join(DOWNLOAD_DIR, download_csv_file_rename))\n",
    "        print(f'Web Workflow completed successfully for client : {client_id}')\n",
    "        return True\n",
    "    except Exception as e:\n",
    "        logging.error(\"An unexpected error occured : \\n\" + traceback.format_exc())\n",
    "        print(e)\n",
    "    finally:\n",
    "        driver.quit()\n",
    "        logging.info(\"Browser closed successfully.\")\n",
    "\n",
    "def data_workflow():\n",
    "    logging.info(\"Database workflow started...\")\n",
    "    try:\n",
    "        print(f'Data transformation and Records insertion process started for client : {client_id}')\n",
    "        input_csv_file = os.path.join(DOWNLOAD_DIR, download_csv_file_rename)\n",
    "        output_csv_file = os.path.join(DOWNLOAD_DIR, transformed_csv_file_name)\n",
    "        table_columns = db.get_column_names(TABLE_NAME)\n",
    "        pay_10_report_data_transformation(input_csv_file, output_csv_file, table_columns, client_id)\n",
    "        file_operation.move_files_only(DOWNLOAD_DIR, date_folder)\n",
    "        db.truncate_table(TABLE_NAME)\n",
    "        db.csv_bulk_insert(output_csv_file, TABLE_NAME)\n",
    "        print(f'Data transformation and Records insertion completed for client : {client_id}')\n",
    "        logging.info('Database workflow completed!')\n",
    "    except Exception as e:\n",
    "        print(e)\n",
    "        logging.error(f'An unexpected error occurred during the ETL process: {e}', exc_info=True)\n",
    "\n",
    "user_credentials = db.get_users_credentials(client_ids)\n",
    "\n",
    "for client_id, username, password in user_credentials:\n",
    "    TABLE_NAME = f'PAY_10_Staging_{client_id}'\n",
    "    file_operation.clear_directory_files(DOWNLOAD_DIR)\n",
    "    time_stamp = datetime.now().strftime(\"%m-%d-%Y_%H-%M-%S\")\n",
    "    download_csv_file_name ='PAY_10_PayerPatientPaidAdjustedByPayerClass.csv'\n",
    "    download_csv_file_rename = f'{REPORT_NAME}_{client_id}_{report_from_date.replace(\"/\", \"-\")}_{report_to_date.replace(\"/\", \"-\")}_{time_stamp}.csv'\n",
    "    transformed_csv_file_name = f'{REPORT_NAME}_{client_id}_{report_from_date.replace(\"/\", \"-\")}_{report_to_date.replace(\"/\", \"-\")}_{time_stamp}_transformed.csv'\n",
    "    status = False\n",
    "    status = web_workflow()\n",
    "    if status:\n",
    "        data_workflow()\n",
    "        current_date = datetime.today().strftime('%Y-%m-%d')\n",
    "        for i in range(1,6):\n",
    "            query = f\"exec [Py_AFC_Pay_10] {client_id},'Pay_10',{i},{current_date}\"\n",
    "            db.execute_query(query)\n",
    "logging.info('Automation run Finished. Please review the results.')\n",
    "print('\\nAutomation run Finished. Please review the results.')\n"
   ]
  },
  {
   "cell_type": "code",
   "execution_count": null,
   "metadata": {},
   "outputs": [],
   "source": []
  },
  {
   "cell_type": "code",
   "execution_count": 1,
   "metadata": {},
   "outputs": [],
   "source": [
    "from dotenv import load_dotenv\n",
    "load_dotenv()\n",
    "from utils.extract_transform import pay_10_report_data_transformation"
   ]
  },
  {
   "cell_type": "code",
   "execution_count": 2,
   "metadata": {},
   "outputs": [
    {
     "name": "stdout",
     "output_type": "stream",
     "text": [
      "--a--\n",
      "[('Payer_Class',), ('Payer_Name',), ('Pat_Name',), ('Svc_Date',), ('CPT_Code',), ('Charge_Amt',), ('Paid_Amt',), ('Adj_Amt',), ('Net_AR',), ('Client_id',), ('Date_Updated',)]\n",
      "--b--\n",
      "--c--\n"
     ]
    }
   ],
   "source": [
    "input_csv_file = r'Downloads\\Pay_10_TEMP\\PAY_10_16_01-01-2022_03-12-2025_03-13-2025_06-04-32.csv'\n",
    "output_csv_file = r'Downloads\\Pay_10_TEMP\\PAY_10_16_01-01-2022_03-12-2025_03-13-2025_06-04-32_test_transformed.csv'\n",
    "TABLE_NAME = 'PAY_10_Staging_16'\n",
    "client_id = 16\n",
    "pay_10_report_data_transformation(input_csv_file, output_csv_file, TABLE_NAME, client_id)"
   ]
  },
  {
   "cell_type": "code",
   "execution_count": null,
   "metadata": {},
   "outputs": [],
   "source": []
  }
 ],
 "metadata": {
  "kernelspec": {
   "display_name": "venv",
   "language": "python",
   "name": "python3"
  },
  "language_info": {
   "codemirror_mode": {
    "name": "ipython",
    "version": 3
   },
   "file_extension": ".py",
   "mimetype": "text/x-python",
   "name": "python",
   "nbconvert_exporter": "python",
   "pygments_lexer": "ipython3",
   "version": "3.10.11"
  }
 },
 "nbformat": 4,
 "nbformat_minor": 2
}
